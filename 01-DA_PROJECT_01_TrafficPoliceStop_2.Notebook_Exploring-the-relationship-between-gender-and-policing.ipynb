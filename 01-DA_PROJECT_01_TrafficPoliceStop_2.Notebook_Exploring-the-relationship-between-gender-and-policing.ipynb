{
 "cells": [
  {
   "cell_type": "markdown",
   "metadata": {},
   "source": [
    "___\n",
    "\n",
    "<p style=\"text-align: center;\"><img src=\"https://docs.google.com/uc?id=1lY0Uj5R04yMY3-ZppPWxqCr5pvBLYPnV\" class=\"img-fluid\" alt=\"CLRSWY\"></p>\n",
    "\n",
    "___"
   ]
  },
  {
   "cell_type": "markdown",
   "metadata": {},
   "source": [
    "<h1><p style=\"text-align: center;\">Data Analysis with Python <br>Project - 1</p><h1> - Traffic Police Stops <img src=\"https://docs.google.com/uc?id=17CPCwi3_VvzcS87TOsh4_U8eExOhL6Ki\" class=\"img-fluid\" alt=\"CLRSWY\" width=\"200\" height=\"100\"> "
   ]
  },
  {
   "cell_type": "markdown",
   "metadata": {},
   "source": [
    "Before beginning your analysis, it is critical that you first examine and clean the dataset, to make working with it a more efficient process. You will practice fixing data types, handling missing values, and dropping columns and rows while learning about the Stanford Open Policing Project dataset."
   ]
  },
  {
   "cell_type": "markdown",
   "metadata": {},
   "source": [
    "***"
   ]
  },
  {
   "cell_type": "markdown",
   "metadata": {},
   "source": [
    "## Examining the dataset"
   ]
  },
  {
   "cell_type": "markdown",
   "metadata": {},
   "source": [
    "You'll be analyzing a dataset of traffic stops in Rhode Island that was collected by the Stanford Open Policing Project."
   ]
  },
  {
   "cell_type": "markdown",
   "metadata": {},
   "source": [
    "Before beginning your analysis, it's important that you familiarize yourself with the dataset. You'll read the dataset into pandas, examine the first few rows, and then count the number of missing values."
   ]
  },
  {
   "cell_type": "markdown",
   "metadata": {},
   "source": [
    "**INSTRUCTIONS**\n",
    "\n",
    "*   Import pandas using the alias ``pd``.\n",
    "*   Read the file police.csv into a DataFrame named ``ri``\n",
    "*   Examine the first 5 rows of the ``DataFrame`` (known as the ``\"head\"``).\n",
    "*   Count the number of missing values in each column: Use ``.isnull()`` to check which ``DataFrame`` elements are missing, and then take the ``.sum()`` to count the number of ``True`` values in each column."
   ]
  },
  {
   "cell_type": "code",
   "execution_count": 96,
   "metadata": {},
   "outputs": [
    {
     "name": "stderr",
     "output_type": "stream",
     "text": [
      "C:\\Users\\sc977\\Anaconda3\\lib\\site-packages\\IPython\\core\\interactiveshell.py:3165: DtypeWarning: Columns (8,16) have mixed types.Specify dtype option on import or set low_memory=False.\n",
      "  has_raised = await self.run_ast_nodes(code_ast.body, cell_name,\n"
     ]
    },
    {
     "data": {
      "text/plain": [
       "id                            0\n",
       "state                         0\n",
       "stop_date                    10\n",
       "stop_time                    10\n",
       "location_raw                  0\n",
       "county_name              509681\n",
       "county_fips              509681\n",
       "fine_grained_location    509681\n",
       "police_department            10\n",
       "driver_gender             29097\n",
       "driver_age_raw            29049\n",
       "driver_age                30695\n",
       "driver_race_raw           29073\n",
       "driver_race               29073\n",
       "violation_raw             29073\n",
       "violation                 29073\n",
       "search_conducted             10\n",
       "search_type_raw          491919\n",
       "search_type              491919\n",
       "contraband_found              0\n",
       "stop_outcome              29073\n",
       "is_arrested               29073\n",
       "stop_duration             29073\n",
       "out_of_state              29881\n",
       "drugs_related_stop            0\n",
       "district                      0\n",
       "dtype: int64"
      ]
     },
     "execution_count": 96,
     "metadata": {},
     "output_type": "execute_result"
    }
   ],
   "source": [
    "import pandas as pd\n",
    "import numpy as np\n",
    "ri = pd.read_csv(\"police.csv\")\n",
    "ri.isnull().sum()"
   ]
  },
  {
   "cell_type": "markdown",
   "metadata": {},
   "source": [
    "***"
   ]
  },
  {
   "cell_type": "markdown",
   "metadata": {},
   "source": [
    "## Dropping columns"
   ]
  },
  {
   "cell_type": "markdown",
   "metadata": {},
   "source": [
    "Often, a DataFrame will contain columns that are not useful to your analysis. Such columns should be dropped from the ``DataFrame``, to make it easier for you to focus on the remaining columns.\n",
    "\n",
    "You'll drop the ``county_name`` column because it only contains missing values, and you'll drop the ``state`` column because all of the traffic stops took place in one state (Rhode Island). Thus, these columns can be dropped because they contain no useful information."
   ]
  },
  {
   "cell_type": "markdown",
   "metadata": {},
   "source": [
    "**INSTRUCTIONS**\n",
    "\n",
    "*   Examine the ``DataFrame``'s shape to find out the number of rows and columns.\n",
    "\n",
    "*   Drop the columns that almost consist of missing values. \n",
    "\n",
    "*   Examine the ``.shape`` again to verify that there are now two fewer columns."
   ]
  },
  {
   "cell_type": "code",
   "execution_count": 97,
   "metadata": {},
   "outputs": [],
   "source": [
    "ri.drop([\"state\", \"county_name\", \"county_fips\", \"fine_grained_location\"], axis=1, inplace=True)"
   ]
  },
  {
   "cell_type": "code",
   "execution_count": 98,
   "metadata": {},
   "outputs": [
    {
     "data": {
      "text/html": [
       "<div>\n",
       "<style scoped>\n",
       "    .dataframe tbody tr th:only-of-type {\n",
       "        vertical-align: middle;\n",
       "    }\n",
       "\n",
       "    .dataframe tbody tr th {\n",
       "        vertical-align: top;\n",
       "    }\n",
       "\n",
       "    .dataframe thead th {\n",
       "        text-align: right;\n",
       "    }\n",
       "</style>\n",
       "<table border=\"1\" class=\"dataframe\">\n",
       "  <thead>\n",
       "    <tr style=\"text-align: right;\">\n",
       "      <th></th>\n",
       "      <th>id</th>\n",
       "      <th>stop_date</th>\n",
       "      <th>stop_time</th>\n",
       "      <th>location_raw</th>\n",
       "      <th>police_department</th>\n",
       "      <th>driver_gender</th>\n",
       "      <th>driver_age_raw</th>\n",
       "      <th>driver_age</th>\n",
       "      <th>driver_race_raw</th>\n",
       "      <th>driver_race</th>\n",
       "      <th>...</th>\n",
       "      <th>search_conducted</th>\n",
       "      <th>search_type_raw</th>\n",
       "      <th>search_type</th>\n",
       "      <th>contraband_found</th>\n",
       "      <th>stop_outcome</th>\n",
       "      <th>is_arrested</th>\n",
       "      <th>stop_duration</th>\n",
       "      <th>out_of_state</th>\n",
       "      <th>drugs_related_stop</th>\n",
       "      <th>district</th>\n",
       "    </tr>\n",
       "  </thead>\n",
       "  <tbody>\n",
       "    <tr>\n",
       "      <th>0</th>\n",
       "      <td>RI-2005-00001</td>\n",
       "      <td>2005-01-02</td>\n",
       "      <td>01:55</td>\n",
       "      <td>Zone K1</td>\n",
       "      <td>600</td>\n",
       "      <td>M</td>\n",
       "      <td>1985.0</td>\n",
       "      <td>20.0</td>\n",
       "      <td>W</td>\n",
       "      <td>White</td>\n",
       "      <td>...</td>\n",
       "      <td>False</td>\n",
       "      <td>NaN</td>\n",
       "      <td>NaN</td>\n",
       "      <td>False</td>\n",
       "      <td>Citation</td>\n",
       "      <td>False</td>\n",
       "      <td>0-15 Min</td>\n",
       "      <td>False</td>\n",
       "      <td>False</td>\n",
       "      <td>Zone K1</td>\n",
       "    </tr>\n",
       "    <tr>\n",
       "      <th>1</th>\n",
       "      <td>RI-2005-00002</td>\n",
       "      <td>2005-01-02</td>\n",
       "      <td>20:30</td>\n",
       "      <td>Zone X4</td>\n",
       "      <td>500</td>\n",
       "      <td>M</td>\n",
       "      <td>1987.0</td>\n",
       "      <td>18.0</td>\n",
       "      <td>W</td>\n",
       "      <td>White</td>\n",
       "      <td>...</td>\n",
       "      <td>False</td>\n",
       "      <td>NaN</td>\n",
       "      <td>NaN</td>\n",
       "      <td>False</td>\n",
       "      <td>Citation</td>\n",
       "      <td>False</td>\n",
       "      <td>16-30 Min</td>\n",
       "      <td>False</td>\n",
       "      <td>False</td>\n",
       "      <td>Zone X4</td>\n",
       "    </tr>\n",
       "    <tr>\n",
       "      <th>2</th>\n",
       "      <td>RI-2005-00003</td>\n",
       "      <td>2005-01-04</td>\n",
       "      <td>11:30</td>\n",
       "      <td>Zone X1</td>\n",
       "      <td>0</td>\n",
       "      <td>NaN</td>\n",
       "      <td>NaN</td>\n",
       "      <td>NaN</td>\n",
       "      <td>NaN</td>\n",
       "      <td>NaN</td>\n",
       "      <td>...</td>\n",
       "      <td>False</td>\n",
       "      <td>NaN</td>\n",
       "      <td>NaN</td>\n",
       "      <td>False</td>\n",
       "      <td>NaN</td>\n",
       "      <td>NaN</td>\n",
       "      <td>NaN</td>\n",
       "      <td>NaN</td>\n",
       "      <td>False</td>\n",
       "      <td>Zone X1</td>\n",
       "    </tr>\n",
       "    <tr>\n",
       "      <th>3</th>\n",
       "      <td>RI-2005-00004</td>\n",
       "      <td>2005-01-04</td>\n",
       "      <td>12:55</td>\n",
       "      <td>Zone X4</td>\n",
       "      <td>500</td>\n",
       "      <td>M</td>\n",
       "      <td>1986.0</td>\n",
       "      <td>19.0</td>\n",
       "      <td>W</td>\n",
       "      <td>White</td>\n",
       "      <td>...</td>\n",
       "      <td>False</td>\n",
       "      <td>NaN</td>\n",
       "      <td>NaN</td>\n",
       "      <td>False</td>\n",
       "      <td>Citation</td>\n",
       "      <td>False</td>\n",
       "      <td>0-15 Min</td>\n",
       "      <td>False</td>\n",
       "      <td>False</td>\n",
       "      <td>Zone X4</td>\n",
       "    </tr>\n",
       "    <tr>\n",
       "      <th>4</th>\n",
       "      <td>RI-2005-00005</td>\n",
       "      <td>2005-01-06</td>\n",
       "      <td>01:30</td>\n",
       "      <td>Zone X4</td>\n",
       "      <td>500</td>\n",
       "      <td>M</td>\n",
       "      <td>1978.0</td>\n",
       "      <td>27.0</td>\n",
       "      <td>B</td>\n",
       "      <td>Black</td>\n",
       "      <td>...</td>\n",
       "      <td>False</td>\n",
       "      <td>NaN</td>\n",
       "      <td>NaN</td>\n",
       "      <td>False</td>\n",
       "      <td>Citation</td>\n",
       "      <td>False</td>\n",
       "      <td>0-15 Min</td>\n",
       "      <td>False</td>\n",
       "      <td>False</td>\n",
       "      <td>Zone X4</td>\n",
       "    </tr>\n",
       "  </tbody>\n",
       "</table>\n",
       "<p>5 rows × 22 columns</p>\n",
       "</div>"
      ],
      "text/plain": [
       "              id   stop_date stop_time location_raw police_department  \\\n",
       "0  RI-2005-00001  2005-01-02     01:55      Zone K1               600   \n",
       "1  RI-2005-00002  2005-01-02     20:30      Zone X4               500   \n",
       "2  RI-2005-00003  2005-01-04     11:30      Zone X1                 0   \n",
       "3  RI-2005-00004  2005-01-04     12:55      Zone X4               500   \n",
       "4  RI-2005-00005  2005-01-06     01:30      Zone X4               500   \n",
       "\n",
       "  driver_gender  driver_age_raw  driver_age driver_race_raw driver_race  ...  \\\n",
       "0             M          1985.0        20.0               W       White  ...   \n",
       "1             M          1987.0        18.0               W       White  ...   \n",
       "2           NaN             NaN         NaN             NaN         NaN  ...   \n",
       "3             M          1986.0        19.0               W       White  ...   \n",
       "4             M          1978.0        27.0               B       Black  ...   \n",
       "\n",
       "  search_conducted search_type_raw search_type contraband_found stop_outcome  \\\n",
       "0            False             NaN         NaN            False     Citation   \n",
       "1            False             NaN         NaN            False     Citation   \n",
       "2            False             NaN         NaN            False          NaN   \n",
       "3            False             NaN         NaN            False     Citation   \n",
       "4            False             NaN         NaN            False     Citation   \n",
       "\n",
       "   is_arrested stop_duration out_of_state drugs_related_stop district  \n",
       "0        False      0-15 Min        False              False  Zone K1  \n",
       "1        False     16-30 Min        False              False  Zone X4  \n",
       "2          NaN           NaN          NaN              False  Zone X1  \n",
       "3        False      0-15 Min        False              False  Zone X4  \n",
       "4        False      0-15 Min        False              False  Zone X4  \n",
       "\n",
       "[5 rows x 22 columns]"
      ]
     },
     "execution_count": 98,
     "metadata": {},
     "output_type": "execute_result"
    }
   ],
   "source": [
    "ri.head()"
   ]
  },
  {
   "cell_type": "code",
   "execution_count": null,
   "metadata": {},
   "outputs": [],
   "source": []
  },
  {
   "cell_type": "markdown",
   "metadata": {},
   "source": [
    "## Dropping rows"
   ]
  },
  {
   "cell_type": "markdown",
   "metadata": {},
   "source": [
    "When you know that a specific column will be critical to your analysis, and only a small fraction of rows are missing a value in that column, it often makes sense to remove those rows from the dataset.\n",
    "\n",
    "During this course, the ``driver_gender`` column will be critical to many of your analyses. Because only a small fraction of rows are missing ``driver_gender``, we'll drop those rows from the dataset."
   ]
  },
  {
   "cell_type": "markdown",
   "metadata": {},
   "source": [
    "**INSTRUCTIONS**\n",
    "\n",
    "*   Count the number of missing values in each column.\n",
    "\n",
    "*   Drop all rows that are missing ``driver_gender`` by passing the column name to the subset parameter of ``.dropna()``.\n",
    "*   Count the number of missing values in each column again, to verify that none of the remaining rows are missing ``driver_gender``.\n",
    "*   Examine the ``DataFrame``'s ``.shape`` to see how many rows and columns remain."
   ]
  },
  {
   "cell_type": "code",
   "execution_count": 99,
   "metadata": {
    "scrolled": true
   },
   "outputs": [
    {
     "data": {
      "text/plain": [
       "(509681, 22)"
      ]
     },
     "execution_count": 99,
     "metadata": {},
     "output_type": "execute_result"
    }
   ],
   "source": [
    "ri.shape"
   ]
  },
  {
   "cell_type": "code",
   "execution_count": 100,
   "metadata": {},
   "outputs": [
    {
     "data": {
      "text/plain": [
       "id                         0\n",
       "stop_date                 10\n",
       "stop_time                 10\n",
       "location_raw               0\n",
       "police_department         10\n",
       "driver_gender          29097\n",
       "driver_age_raw         29049\n",
       "driver_age             30695\n",
       "driver_race_raw        29073\n",
       "driver_race            29073\n",
       "violation_raw          29073\n",
       "violation              29073\n",
       "search_conducted          10\n",
       "search_type_raw       491919\n",
       "search_type           491919\n",
       "contraband_found           0\n",
       "stop_outcome           29073\n",
       "is_arrested            29073\n",
       "stop_duration          29073\n",
       "out_of_state           29881\n",
       "drugs_related_stop         0\n",
       "district                   0\n",
       "dtype: int64"
      ]
     },
     "execution_count": 100,
     "metadata": {},
     "output_type": "execute_result"
    }
   ],
   "source": [
    "ri.isnull().sum()"
   ]
  },
  {
   "cell_type": "code",
   "execution_count": 101,
   "metadata": {},
   "outputs": [],
   "source": [
    "ri.dropna(subset=[\"driver_gender\"], inplace = True)"
   ]
  },
  {
   "cell_type": "code",
   "execution_count": 102,
   "metadata": {},
   "outputs": [
    {
     "data": {
      "text/plain": [
       "id                         0\n",
       "stop_date                  0\n",
       "stop_time                  0\n",
       "location_raw               0\n",
       "police_department          0\n",
       "driver_gender              0\n",
       "driver_age_raw             1\n",
       "driver_age              1638\n",
       "driver_race_raw            0\n",
       "driver_race                0\n",
       "violation_raw              0\n",
       "violation                  0\n",
       "search_conducted           0\n",
       "search_type_raw       462822\n",
       "search_type           462822\n",
       "contraband_found           0\n",
       "stop_outcome               0\n",
       "is_arrested                0\n",
       "stop_duration              0\n",
       "out_of_state             808\n",
       "drugs_related_stop         0\n",
       "district                   0\n",
       "dtype: int64"
      ]
     },
     "execution_count": 102,
     "metadata": {},
     "output_type": "execute_result"
    }
   ],
   "source": [
    "ri.isnull().sum()"
   ]
  },
  {
   "cell_type": "markdown",
   "metadata": {},
   "source": [
    "***"
   ]
  },
  {
   "cell_type": "markdown",
   "metadata": {},
   "source": [
    "## Fixing a data type"
   ]
  },
  {
   "cell_type": "markdown",
   "metadata": {},
   "source": [
    "We know that the ``is_arrested`` column currently has the ``object`` data type. In this exercise, we'll change the data type to ``bool``, which is the most suitable type for a column containing ``True`` and ``False`` values.\n",
    "\n",
    "Fixing the data type will enable us to use mathematical operations on the ``is_arrested`` column that would not be possible otherwise."
   ]
  },
  {
   "cell_type": "markdown",
   "metadata": {},
   "source": [
    "**INSTRUCTIONS**\n",
    "\n",
    "*   Examine the head of the ``is_arrested`` column to verify that it contains ``True`` and ``False`` values.\n",
    "*   Check the current data type of ``is_arrested``.\n",
    "*   Use the ``.astype()`` method to convert ``is_arrested`` to a ``bool`` column.\n",
    "*   Check the new data type of ``is_arrested``, to confirm that it is now a ``bool`` column."
   ]
  },
  {
   "cell_type": "code",
   "execution_count": 114,
   "metadata": {
    "scrolled": true
   },
   "outputs": [
    {
     "data": {
      "text/plain": [
       "0         True\n",
       "1         True\n",
       "3         True\n",
       "4         True\n",
       "5         True\n",
       "          ... \n",
       "509666    True\n",
       "509667    True\n",
       "509668    True\n",
       "509669    True\n",
       "509670    True\n",
       "Name: is_arrested, Length: 480584, dtype: bool"
      ]
     },
     "execution_count": 114,
     "metadata": {},
     "output_type": "execute_result"
    }
   ],
   "source": [
    "ri.is_arrested"
   ]
  },
  {
   "cell_type": "code",
   "execution_count": 104,
   "metadata": {},
   "outputs": [
    {
     "data": {
      "text/plain": [
       "(480584, 22)"
      ]
     },
     "execution_count": 104,
     "metadata": {},
     "output_type": "execute_result"
    }
   ],
   "source": [
    "ri.shape"
   ]
  },
  {
   "cell_type": "code",
   "execution_count": 105,
   "metadata": {},
   "outputs": [
    {
     "name": "stdout",
     "output_type": "stream",
     "text": [
      "<class 'pandas.core.frame.DataFrame'>\n",
      "Int64Index: 480584 entries, 0 to 509670\n",
      "Data columns (total 22 columns):\n",
      " #   Column              Non-Null Count   Dtype  \n",
      "---  ------              --------------   -----  \n",
      " 0   id                  480584 non-null  object \n",
      " 1   stop_date           480584 non-null  object \n",
      " 2   stop_time           480584 non-null  object \n",
      " 3   location_raw        480584 non-null  object \n",
      " 4   police_department   480584 non-null  object \n",
      " 5   driver_gender       480584 non-null  object \n",
      " 6   driver_age_raw      480583 non-null  float64\n",
      " 7   driver_age          478946 non-null  float64\n",
      " 8   driver_race_raw     480584 non-null  object \n",
      " 9   driver_race         480584 non-null  object \n",
      " 10  violation_raw       480584 non-null  object \n",
      " 11  violation           480584 non-null  object \n",
      " 12  search_conducted    480584 non-null  object \n",
      " 13  search_type_raw     17762 non-null   object \n",
      " 14  search_type         17762 non-null   object \n",
      " 15  contraband_found    480584 non-null  bool   \n",
      " 16  stop_outcome        480584 non-null  object \n",
      " 17  is_arrested         480584 non-null  object \n",
      " 18  stop_duration       480584 non-null  object \n",
      " 19  out_of_state        479776 non-null  object \n",
      " 20  drugs_related_stop  480584 non-null  bool   \n",
      " 21  district            480584 non-null  object \n",
      "dtypes: bool(2), float64(2), object(18)\n",
      "memory usage: 77.9+ MB\n"
     ]
    }
   ],
   "source": [
    "ri.info()"
   ]
  },
  {
   "cell_type": "code",
   "execution_count": 112,
   "metadata": {},
   "outputs": [],
   "source": [
    "ri[\"is_arrested\"] = ri [\"is_arrested\"].astype(bool)"
   ]
  },
  {
   "cell_type": "code",
   "execution_count": 113,
   "metadata": {},
   "outputs": [
    {
     "data": {
      "text/plain": [
       "dtype('bool')"
      ]
     },
     "execution_count": 113,
     "metadata": {},
     "output_type": "execute_result"
    }
   ],
   "source": [
    "ri[\"is_arrested\"].dtypes"
   ]
  },
  {
   "cell_type": "code",
   "execution_count": null,
   "metadata": {},
   "outputs": [],
   "source": []
  },
  {
   "cell_type": "markdown",
   "metadata": {},
   "source": [
    "***"
   ]
  },
  {
   "cell_type": "markdown",
   "metadata": {},
   "source": [
    "## Combining object columns"
   ]
  },
  {
   "cell_type": "markdown",
   "metadata": {},
   "source": [
    "Currently, the date and time of each traffic stop are stored in separate object columns: ``stop_date`` and ``stop_time``.\n",
    "\n",
    "You'll combine these two columns into a single column, and then convert it to ``datetime`` format. This will enable convenient date-based attributes that we'll use later in the course."
   ]
  },
  {
   "cell_type": "markdown",
   "metadata": {},
   "source": [
    "**INSTRUCTIONS**\n",
    "\n",
    "*    Use a string method to concatenate ``stop_date`` and ``stop_time`` (separated by a space), and store the result in ``combined``.\n",
    "*    Convert ``combined`` to ``datetime`` format, and store the result in a new column named ``stop_datetime``.\n",
    "*    Examine the ``DataFrame`` ``.dtypes`` to confirm that ``stop_datetime`` is a datetime column."
   ]
  },
  {
   "cell_type": "code",
   "execution_count": 124,
   "metadata": {},
   "outputs": [
    {
     "data": {
      "text/plain": [
       "(0         2005-01-02\n",
       " 1         2005-01-02\n",
       " 3         2005-01-04\n",
       " 4         2005-01-06\n",
       " 5         2005-01-12\n",
       "              ...    \n",
       " 509666    2015-12-31\n",
       " 509667    2015-12-31\n",
       " 509668    2015-12-31\n",
       " 509669    2015-12-31\n",
       " 509670    2015-12-31\n",
       " Name: stop_date, Length: 480584, dtype: object,\n",
       " ['stop_time'])"
      ]
     },
     "execution_count": 124,
     "metadata": {},
     "output_type": "execute_result"
    }
   ],
   "source": [
    "ri[\"stop_date\"], [\"stop_time\"]"
   ]
  },
  {
   "cell_type": "code",
   "execution_count": 139,
   "metadata": {},
   "outputs": [
    {
     "data": {
      "text/html": [
       "<div>\n",
       "<style scoped>\n",
       "    .dataframe tbody tr th:only-of-type {\n",
       "        vertical-align: middle;\n",
       "    }\n",
       "\n",
       "    .dataframe tbody tr th {\n",
       "        vertical-align: top;\n",
       "    }\n",
       "\n",
       "    .dataframe thead th {\n",
       "        text-align: right;\n",
       "    }\n",
       "</style>\n",
       "<table border=\"1\" class=\"dataframe\">\n",
       "  <thead>\n",
       "    <tr style=\"text-align: right;\">\n",
       "      <th></th>\n",
       "      <th>id</th>\n",
       "      <th>stop_date</th>\n",
       "      <th>stop_time</th>\n",
       "      <th>location_raw</th>\n",
       "      <th>police_department</th>\n",
       "      <th>driver_gender</th>\n",
       "      <th>driver_age_raw</th>\n",
       "      <th>driver_age</th>\n",
       "      <th>driver_race_raw</th>\n",
       "      <th>driver_race</th>\n",
       "      <th>...</th>\n",
       "      <th>search_type</th>\n",
       "      <th>contraband_found</th>\n",
       "      <th>stop_outcome</th>\n",
       "      <th>is_arrested</th>\n",
       "      <th>stop_duration</th>\n",
       "      <th>out_of_state</th>\n",
       "      <th>drugs_related_stop</th>\n",
       "      <th>district</th>\n",
       "      <th>combined</th>\n",
       "      <th>stop_datetime</th>\n",
       "    </tr>\n",
       "  </thead>\n",
       "  <tbody>\n",
       "    <tr>\n",
       "      <th>0</th>\n",
       "      <td>RI-2005-00001</td>\n",
       "      <td>2005-01-02</td>\n",
       "      <td>01:55</td>\n",
       "      <td>Zone K1</td>\n",
       "      <td>600</td>\n",
       "      <td>M</td>\n",
       "      <td>1985.0</td>\n",
       "      <td>20.0</td>\n",
       "      <td>W</td>\n",
       "      <td>White</td>\n",
       "      <td>...</td>\n",
       "      <td>NaN</td>\n",
       "      <td>False</td>\n",
       "      <td>Citation</td>\n",
       "      <td>True</td>\n",
       "      <td>0-15 Min</td>\n",
       "      <td>False</td>\n",
       "      <td>False</td>\n",
       "      <td>Zone K1</td>\n",
       "      <td>2005-01-02 01:55</td>\n",
       "      <td>2005-01-02 01:55</td>\n",
       "    </tr>\n",
       "    <tr>\n",
       "      <th>1</th>\n",
       "      <td>RI-2005-00002</td>\n",
       "      <td>2005-01-02</td>\n",
       "      <td>20:30</td>\n",
       "      <td>Zone X4</td>\n",
       "      <td>500</td>\n",
       "      <td>M</td>\n",
       "      <td>1987.0</td>\n",
       "      <td>18.0</td>\n",
       "      <td>W</td>\n",
       "      <td>White</td>\n",
       "      <td>...</td>\n",
       "      <td>NaN</td>\n",
       "      <td>False</td>\n",
       "      <td>Citation</td>\n",
       "      <td>True</td>\n",
       "      <td>16-30 Min</td>\n",
       "      <td>False</td>\n",
       "      <td>False</td>\n",
       "      <td>Zone X4</td>\n",
       "      <td>2005-01-02 20:30</td>\n",
       "      <td>2005-01-02 20:30</td>\n",
       "    </tr>\n",
       "    <tr>\n",
       "      <th>3</th>\n",
       "      <td>RI-2005-00004</td>\n",
       "      <td>2005-01-04</td>\n",
       "      <td>12:55</td>\n",
       "      <td>Zone X4</td>\n",
       "      <td>500</td>\n",
       "      <td>M</td>\n",
       "      <td>1986.0</td>\n",
       "      <td>19.0</td>\n",
       "      <td>W</td>\n",
       "      <td>White</td>\n",
       "      <td>...</td>\n",
       "      <td>NaN</td>\n",
       "      <td>False</td>\n",
       "      <td>Citation</td>\n",
       "      <td>True</td>\n",
       "      <td>0-15 Min</td>\n",
       "      <td>False</td>\n",
       "      <td>False</td>\n",
       "      <td>Zone X4</td>\n",
       "      <td>2005-01-04 12:55</td>\n",
       "      <td>2005-01-04 12:55</td>\n",
       "    </tr>\n",
       "    <tr>\n",
       "      <th>4</th>\n",
       "      <td>RI-2005-00005</td>\n",
       "      <td>2005-01-06</td>\n",
       "      <td>01:30</td>\n",
       "      <td>Zone X4</td>\n",
       "      <td>500</td>\n",
       "      <td>M</td>\n",
       "      <td>1978.0</td>\n",
       "      <td>27.0</td>\n",
       "      <td>B</td>\n",
       "      <td>Black</td>\n",
       "      <td>...</td>\n",
       "      <td>NaN</td>\n",
       "      <td>False</td>\n",
       "      <td>Citation</td>\n",
       "      <td>True</td>\n",
       "      <td>0-15 Min</td>\n",
       "      <td>False</td>\n",
       "      <td>False</td>\n",
       "      <td>Zone X4</td>\n",
       "      <td>2005-01-06 01:30</td>\n",
       "      <td>2005-01-06 01:30</td>\n",
       "    </tr>\n",
       "    <tr>\n",
       "      <th>5</th>\n",
       "      <td>RI-2005-00006</td>\n",
       "      <td>2005-01-12</td>\n",
       "      <td>08:05</td>\n",
       "      <td>Zone X1</td>\n",
       "      <td>0</td>\n",
       "      <td>M</td>\n",
       "      <td>1973.0</td>\n",
       "      <td>32.0</td>\n",
       "      <td>B</td>\n",
       "      <td>Black</td>\n",
       "      <td>...</td>\n",
       "      <td>NaN</td>\n",
       "      <td>False</td>\n",
       "      <td>Citation</td>\n",
       "      <td>True</td>\n",
       "      <td>30+ Min</td>\n",
       "      <td>True</td>\n",
       "      <td>False</td>\n",
       "      <td>Zone X1</td>\n",
       "      <td>2005-01-12 08:05</td>\n",
       "      <td>2005-01-12 08:05</td>\n",
       "    </tr>\n",
       "  </tbody>\n",
       "</table>\n",
       "<p>5 rows × 24 columns</p>\n",
       "</div>"
      ],
      "text/plain": [
       "              id   stop_date stop_time location_raw police_department  \\\n",
       "0  RI-2005-00001  2005-01-02     01:55      Zone K1               600   \n",
       "1  RI-2005-00002  2005-01-02     20:30      Zone X4               500   \n",
       "3  RI-2005-00004  2005-01-04     12:55      Zone X4               500   \n",
       "4  RI-2005-00005  2005-01-06     01:30      Zone X4               500   \n",
       "5  RI-2005-00006  2005-01-12     08:05      Zone X1                 0   \n",
       "\n",
       "  driver_gender  driver_age_raw  driver_age driver_race_raw driver_race  ...  \\\n",
       "0             M          1985.0        20.0               W       White  ...   \n",
       "1             M          1987.0        18.0               W       White  ...   \n",
       "3             M          1986.0        19.0               W       White  ...   \n",
       "4             M          1978.0        27.0               B       Black  ...   \n",
       "5             M          1973.0        32.0               B       Black  ...   \n",
       "\n",
       "  search_type contraband_found stop_outcome is_arrested stop_duration  \\\n",
       "0         NaN            False     Citation        True      0-15 Min   \n",
       "1         NaN            False     Citation        True     16-30 Min   \n",
       "3         NaN            False     Citation        True      0-15 Min   \n",
       "4         NaN            False     Citation        True      0-15 Min   \n",
       "5         NaN            False     Citation        True       30+ Min   \n",
       "\n",
       "   out_of_state drugs_related_stop  district          combined  \\\n",
       "0         False              False   Zone K1  2005-01-02 01:55   \n",
       "1         False              False   Zone X4  2005-01-02 20:30   \n",
       "3         False              False   Zone X4  2005-01-04 12:55   \n",
       "4         False              False   Zone X4  2005-01-06 01:30   \n",
       "5          True              False   Zone X1  2005-01-12 08:05   \n",
       "\n",
       "      stop_datetime  \n",
       "0  2005-01-02 01:55  \n",
       "1  2005-01-02 20:30  \n",
       "3  2005-01-04 12:55  \n",
       "4  2005-01-06 01:30  \n",
       "5  2005-01-12 08:05  \n",
       "\n",
       "[5 rows x 24 columns]"
      ]
     },
     "execution_count": 139,
     "metadata": {},
     "output_type": "execute_result"
    }
   ],
   "source": [
    "ri[\"combined\"] =  ri.stop_date +' '+ri.stop_time\n",
    "ri.head()"
   ]
  },
  {
   "cell_type": "code",
   "execution_count": 150,
   "metadata": {},
   "outputs": [
    {
     "data": {
      "text/plain": [
       "dtype('<M8[ns]')"
      ]
     },
     "execution_count": 150,
     "metadata": {},
     "output_type": "execute_result"
    }
   ],
   "source": [
    "ri[\"stop_datetime\"].dtype"
   ]
  },
  {
   "cell_type": "code",
   "execution_count": 149,
   "metadata": {},
   "outputs": [],
   "source": [
    "ri[\"stop_datetime\"] = pd.to_datetime(ri[\"combined\"])"
   ]
  },
  {
   "cell_type": "code",
   "execution_count": 151,
   "metadata": {},
   "outputs": [
    {
     "data": {
      "text/plain": [
       "dtype('<M8[ns]')"
      ]
     },
     "execution_count": 151,
     "metadata": {},
     "output_type": "execute_result"
    }
   ],
   "source": [
    "ri[\"stop_datetime\"].dtype"
   ]
  },
  {
   "cell_type": "code",
   "execution_count": 152,
   "metadata": {},
   "outputs": [
    {
     "data": {
      "text/plain": [
       "0        2005-01-02 01:55:00\n",
       "1        2005-01-02 20:30:00\n",
       "3        2005-01-04 12:55:00\n",
       "4        2005-01-06 01:30:00\n",
       "5        2005-01-12 08:05:00\n",
       "                 ...        \n",
       "509666   2015-12-31 22:46:00\n",
       "509667   2015-12-31 22:47:00\n",
       "509668   2015-12-31 23:08:00\n",
       "509669   2015-12-31 23:44:00\n",
       "509670   2015-12-31 23:48:00\n",
       "Name: stop_datetime, Length: 480584, dtype: datetime64[ns]"
      ]
     },
     "execution_count": 152,
     "metadata": {},
     "output_type": "execute_result"
    }
   ],
   "source": [
    "pd.to_datetime (ri[\"stop_datetime\"])"
   ]
  },
  {
   "cell_type": "code",
   "execution_count": 141,
   "metadata": {},
   "outputs": [
    {
     "data": {
      "text/plain": [
       "dtype('O')"
      ]
     },
     "execution_count": 141,
     "metadata": {},
     "output_type": "execute_result"
    }
   ],
   "source": [
    "ri[\"stop_datetime\"].dtype"
   ]
  },
  {
   "cell_type": "code",
   "execution_count": 153,
   "metadata": {},
   "outputs": [
    {
     "name": "stdout",
     "output_type": "stream",
     "text": [
      "<class 'pandas.core.frame.DataFrame'>\n",
      "Int64Index: 480584 entries, 0 to 509670\n",
      "Data columns (total 24 columns):\n",
      " #   Column              Non-Null Count   Dtype         \n",
      "---  ------              --------------   -----         \n",
      " 0   id                  480584 non-null  object        \n",
      " 1   stop_date           480584 non-null  object        \n",
      " 2   stop_time           480584 non-null  object        \n",
      " 3   location_raw        480584 non-null  object        \n",
      " 4   police_department   480584 non-null  object        \n",
      " 5   driver_gender       480584 non-null  object        \n",
      " 6   driver_age_raw      480583 non-null  float64       \n",
      " 7   driver_age          478946 non-null  float64       \n",
      " 8   driver_race_raw     480584 non-null  object        \n",
      " 9   driver_race         480584 non-null  object        \n",
      " 10  violation_raw       480584 non-null  object        \n",
      " 11  violation           480584 non-null  object        \n",
      " 12  search_conducted    480584 non-null  object        \n",
      " 13  search_type_raw     17762 non-null   object        \n",
      " 14  search_type         17762 non-null   object        \n",
      " 15  contraband_found    480584 non-null  bool          \n",
      " 16  stop_outcome        480584 non-null  object        \n",
      " 17  is_arrested         480584 non-null  bool          \n",
      " 18  stop_duration       480584 non-null  object        \n",
      " 19  out_of_state        479776 non-null  object        \n",
      " 20  drugs_related_stop  480584 non-null  bool          \n",
      " 21  district            480584 non-null  object        \n",
      " 22  combined            480584 non-null  object        \n",
      " 23  stop_datetime       480584 non-null  datetime64[ns]\n",
      "dtypes: bool(3), datetime64[ns](1), float64(2), object(18)\n",
      "memory usage: 98.2+ MB\n"
     ]
    }
   ],
   "source": [
    "ri.info()"
   ]
  },
  {
   "cell_type": "markdown",
   "metadata": {},
   "source": [
    "The last step that you'll take in this chapter is to set the ``stop_datetime`` column as the ``DataFrame``'s index. By replacing the default index with a ``DatetimeIndex``, you'll make it easier to analyze the dataset by date and time, which will come in handy later in the course."
   ]
  },
  {
   "cell_type": "markdown",
   "metadata": {},
   "source": [
    "**INSTRUCTIONS**\n",
    "\n",
    "*   Set ``stop_datetime`` as the ``DataFrame`` index.\n",
    "*   Examine the index to verify that it is a ``DatetimeIndex``.\n",
    "*   Examine the ``DataFrame`` columns to confirm that ``stop_datetime`` is no longer one of the columns."
   ]
  },
  {
   "cell_type": "code",
   "execution_count": 156,
   "metadata": {},
   "outputs": [],
   "source": [
    "ri = ri.set_index(\"stop_datetime\")"
   ]
  },
  {
   "cell_type": "code",
   "execution_count": 158,
   "metadata": {},
   "outputs": [
    {
     "data": {
      "text/plain": [
       "pandas.core.indexes.datetimes.DatetimeIndex"
      ]
     },
     "execution_count": 158,
     "metadata": {},
     "output_type": "execute_result"
    }
   ],
   "source": [
    "type(ri.index)"
   ]
  },
  {
   "cell_type": "code",
   "execution_count": 159,
   "metadata": {},
   "outputs": [
    {
     "data": {
      "text/plain": [
       "Index(['id', 'stop_date', 'stop_time', 'location_raw', 'police_department',\n",
       "       'driver_gender', 'driver_age_raw', 'driver_age', 'driver_race_raw',\n",
       "       'driver_race', 'violation_raw', 'violation', 'search_conducted',\n",
       "       'search_type_raw', 'search_type', 'contraband_found', 'stop_outcome',\n",
       "       'is_arrested', 'stop_duration', 'out_of_state', 'drugs_related_stop',\n",
       "       'district', 'combined'],\n",
       "      dtype='object')"
      ]
     },
     "execution_count": 159,
     "metadata": {},
     "output_type": "execute_result"
    }
   ],
   "source": [
    "ri.columns"
   ]
  },
  {
   "cell_type": "code",
   "execution_count": null,
   "metadata": {},
   "outputs": [],
   "source": []
  },
  {
   "cell_type": "code",
   "execution_count": null,
   "metadata": {},
   "outputs": [],
   "source": []
  }
 ],
 "metadata": {
  "kernelspec": {
   "display_name": "Python 3",
   "language": "python",
   "name": "python3"
  },
  "language_info": {
   "codemirror_mode": {
    "name": "ipython",
    "version": 3
   },
   "file_extension": ".py",
   "mimetype": "text/x-python",
   "name": "python",
   "nbconvert_exporter": "python",
   "pygments_lexer": "ipython3",
   "version": "3.8.8"
  }
 },
 "nbformat": 4,
 "nbformat_minor": 4
}
